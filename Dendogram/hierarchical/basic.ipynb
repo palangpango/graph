{
 "cells": [
  {
   "cell_type": "markdown",
   "metadata": {},
   "source": [
    "# **Dendogram**"
   ]
  },
  {
   "cell_type": "markdown",
   "metadata": {},
   "source": [
    "#### สามารถแบ่งได้ 2 แบบ คือ"
   ]
  },
  {
   "cell_type": "markdown",
   "metadata": {},
   "source": [
    "- #### **edge list** → 2 columns, 1 row "
   ]
  },
  {
   "cell_type": "markdown",
   "metadata": {},
   "source": [
    "- #### **nested data frame** → 1 row เป็นข้อมูลจากรากแล้วแยกออกมา"
   ]
  },
  {
   "cell_type": "markdown",
   "metadata": {},
   "source": [
    "## **Dendrogram from edge list**"
   ]
  },
  {
   "cell_type": "markdown",
   "metadata": {},
   "source": [
    "- #### เปลี่ยนจากข้อมูลเป็นกราฟโดยใช้ฟังก์ชั่น **graph_from_data_frame()**"
   ]
  },
  {
   "cell_type": "markdown",
   "metadata": {},
   "source": [
    "- #### สร้าง layout โดย **layout = 'dendrogram'**"
   ]
  },
  {
   "cell_type": "code",
   "execution_count": 14,
   "metadata": {},
   "outputs": [
    {
     "data": {
      "image/png": "[encoded data removed]",
      "text/plain": [
       "plot without title"
      ]
     },
     "metadata": {
      "image/png": {
       "height": 420,
       "width": 420
      },
      "text/plain": {
       "height": 420,
       "width": 420
      }
     },
     "output_type": "display_data"
    }
   ],
   "source": [
    "# libraries\n",
    "library(ggraph)\n",
    "library(igraph)\n",
    "library(tidyverse)\n",
    " \n",
    "# create an edge list data frame giving the hierarchical structure of your individuals\n",
    "d1 <- data.frame(from=\"origin\", to=paste(\"group\", seq(1,5), sep=\"\"))\n",
    "d2 <- data.frame(from=rep(d1$to, each=5), to=paste(\"subgroup\", seq(1,25), sep=\"_\"))\n",
    "edges <- rbind(d1, d2)\n",
    " \n",
    "# Create a graph object \n",
    "mygraph <- graph_from_data_frame( edges )\n",
    " \n",
    "# Basic tree\n",
    "ggraph(mygraph, layout = 'dendrogram', circular = FALSE) + \n",
    "  geom_edge_diagonal() +\n",
    "  geom_node_point() +\n",
    "  theme_void()"
   ]
  },
  {
   "cell_type": "markdown",
   "metadata": {},
   "source": [
    "## **Dendrogram from a nested dataframe**"
   ]
  },
  {
   "cell_type": "code",
   "execution_count": 15,
   "metadata": {},
   "outputs": [
    {
     "data": {
      "image/png": "[encoded data removed]",
      "text/plain": [
       "plot without title"
      ]
     },
     "metadata": {
      "image/png": {
       "height": 420,
       "width": 420
      },
      "text/plain": {
       "height": 420,
       "width": 420
      }
     },
     "output_type": "display_data"
    }
   ],
   "source": [
    "# libraries\n",
    "library(ggraph)\n",
    "library(igraph)\n",
    "library(tidyverse)\n",
    " \n",
    "# create a data frame \n",
    "data <- data.frame(\n",
    "  level1=\"CEO\",\n",
    "  level2=c( rep(\"boss1\",4), rep(\"boss2\",4)),\n",
    "  level3=paste0(\"mister_\", letters[1:8])\n",
    ")\n",
    " \n",
    "# transform it to a edge list!\n",
    "edges_level1_2 <- data %>% select(level1, level2) %>% unique %>% rename(from=level1, to=level2)\n",
    "edges_level2_3 <- data %>% select(level2, level3) %>% unique %>% rename(from=level2, to=level3)\n",
    "edge_list=rbind(edges_level1_2, edges_level2_3)\n",
    " \n",
    "# Now we can plot that\n",
    "mygraph <- graph_from_data_frame( edge_list )\n",
    "ggraph(mygraph, layout = 'dendrogram', circular = FALSE) + \n",
    "  geom_edge_diagonal() +\n",
    "  geom_node_point() +\n",
    "  theme_void()"
   ]
  }
 ],
 "metadata": {
  "kernelspec": {
   "display_name": "R",
   "language": "R",
   "name": "ir"
  },
  "language_info": {
   "codemirror_mode": "r",
   "file_extension": ".r",
   "mimetype": "text/x-r-source",
   "name": "R",
   "pygments_lexer": "r",
   "version": "3.6.2"
  }
 },
 "nbformat": 4,
 "nbformat_minor": 4
}
