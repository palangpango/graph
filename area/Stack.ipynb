{
 "cells": [
  {
   "cell_type": "markdown",
   "metadata": {},
   "source": [
    "# **basic stacked area**"
   ]
  },
  {
   "cell_type": "markdown",
   "metadata": {},
   "source": [
    "#### Input ที่ต้องการ มี 3 Column ใช้ภายใน **geom_area**"
   ]
  },
  {
   "cell_type": "markdown",
   "metadata": {},
   "source": [
    "> #### **X** = ตัวแปร numeric สำหรับแกน x ส่วนใหญ่จะเป็นเวลา"
   ]
  },
  {
   "cell_type": "markdown",
   "metadata": {},
   "source": [
    "> #### **y** = ตัวแปร numeric สำหรับแกน y คือสิ่งที่เราต้องการหา"
   ]
  },
  {
   "cell_type": "markdown",
   "metadata": {},
   "source": [
    "> #### **group**"
   ]
  },
  {
   "cell_type": "code",
   "execution_count": 3,
   "metadata": {},
   "outputs": [
    {
     "name": "stderr",
     "output_type": "stream",
     "text": [
      "\n",
      "Attaching package: 'dplyr'\n",
      "\n",
      "\n",
      "The following objects are masked from 'package:stats':\n",
      "\n",
      "    filter, lag\n",
      "\n",
      "\n",
      "The following objects are masked from 'package:base':\n",
      "\n",
      "    intersect, setdiff, setequal, union\n",
      "\n",
      "\n"
     ]
    },
    {
     "data": {
      "image/png": "[encoded data removed]",
      "text/plain": [
       "plot without title"
      ]
     },
     "metadata": {
      "image/png": {
       "height": 420,
       "width": 420
      },
      "text/plain": {
       "height": 420,
       "width": 420
      }
     },
     "output_type": "display_data"
    }
   ],
   "source": [
    "# Packages\n",
    "library(ggplot2)\n",
    "library(dplyr)\n",
    " \n",
    "# create data\n",
    "time <- as.numeric(rep(seq(1,7),each=7))  # x Axis\n",
    "value <- runif(49, 10, 100)               # y Axis\n",
    "group <- rep(LETTERS[1:7],times=7)        # group, one shape per group\n",
    "data <- data.frame(time, value, group)\n",
    "\n",
    "# stacked area chart\n",
    "ggplot(data, aes(x=time, y=value, fill=group)) + \n",
    "    geom_area()"
   ]
  },
  {
   "cell_type": "markdown",
   "metadata": {},
   "source": [
    "### **จัดการกับ Stack ด้วย ggplot2**"
   ]
  },
  {
   "cell_type": "markdown",
   "metadata": {},
   "source": [
    "> #### กำหนดคำสั่งเฉพาะด้วย **factor()**"
   ]
  },
  {
   "cell_type": "markdown",
   "metadata": {},
   "source": [
    "> #### เรียงลำดับตัวอักษรด้วย **sort()**"
   ]
  },
  {
   "cell_type": "code",
   "execution_count": 5,
   "metadata": {},
   "outputs": [
    {
     "data": {
      "image/png": "[encoded data removed]",
      "text/plain": [
       "plot without title"
      ]
     },
     "metadata": {
      "image/png": {
       "height": 420,
       "width": 420
      },
      "text/plain": {
       "height": 420,
       "width": 420
      }
     },
     "output_type": "display_data"
    }
   ],
   "source": [
    "# Give a specific order:\n",
    "data$group <- factor(data$group , levels=c(\"B\", \"A\", \"D\", \"E\", \"G\", \"F\", \"C\") )\n",
    "\n",
    "# Plot again\n",
    "ggplot(data, aes(x=time, y=value, fill=group)) + \n",
    "    geom_area()\n",
    "\n",
    "# Note: you can also sort levels alphabetically:\n",
    "myLevels <- levels(data$group)\n",
    "data$group <- factor(data$group , levels=sort(myLevels) )\n",
    "\n",
    "# Note: sort followinig values at time = 5\n",
    "myLevels <- data %>%\n",
    "  filter(time==6) %>%\n",
    "  arrange(value)\n",
    "data$group <- factor(data$group , levels=myLevels$group )"
   ]
  },
  {
   "cell_type": "markdown",
   "metadata": {},
   "source": [
    "### **การจัด Stack ตามสัดส่วน**"
   ]
  },
  {
   "cell_type": "markdown",
   "metadata": {},
   "source": [
    "> #### โดยต้องคำนวณออกมาเป็น % ก่อน โดยใช้ dplyr"
   ]
  },
  {
   "cell_type": "code",
   "execution_count": 6,
   "metadata": {},
   "outputs": [
    {
     "name": "stderr",
     "output_type": "stream",
     "text": [
      "Warning message in FUN(newX[, i], ...):\n",
      "\"NAs introduced by coercion\"\n",
      "Warning message:\n",
      "\"Unknown or uninitialised column: 'value'.\"\n",
      "Warning message in FUN(newX[, i], ...):\n",
      "\"NAs introduced by coercion\"\n",
      "Warning message:\n",
      "\"Unknown or uninitialised column: 'value'.\"\n",
      "Warning message in FUN(newX[, i], ...):\n",
      "\"NAs introduced by coercion\"\n",
      "Warning message:\n",
      "\"Unknown or uninitialised column: 'value'.\"\n",
      "Warning message in FUN(newX[, i], ...):\n",
      "\"NAs introduced by coercion\"\n",
      "Warning message:\n",
      "\"Unknown or uninitialised column: 'value'.\"\n",
      "Warning message in FUN(newX[, i], ...):\n",
      "\"NAs introduced by coercion\"\n",
      "Warning message:\n",
      "\"Unknown or uninitialised column: 'value'.\"\n",
      "Warning message in FUN(newX[, i], ...):\n",
      "\"NAs introduced by coercion\"\n",
      "Warning message:\n",
      "\"Unknown or uninitialised column: 'value'.\"\n",
      "Warning message in FUN(newX[, i], ...):\n",
      "\"NAs introduced by coercion\"\n",
      "Warning message:\n",
      "\"Unknown or uninitialised column: 'value'.\"\n",
      "Warning message in FUN(newX[, i], ...):\n",
      "\"NAs introduced by coercion\"\n",
      "Warning message:\n",
      "\"Unknown or uninitialised column: 'value'.\"\n",
      "Warning message in FUN(newX[, i], ...):\n",
      "\"NAs introduced by coercion\"\n",
      "Warning message:\n",
      "\"Unknown or uninitialised column: 'value'.\"\n",
      "Warning message in FUN(newX[, i], ...):\n",
      "\"NAs introduced by coercion\"\n",
      "Warning message:\n",
      "\"Unknown or uninitialised column: 'value'.\"\n",
      "Warning message in FUN(newX[, i], ...):\n",
      "\"NAs introduced by coercion\"\n",
      "Warning message:\n",
      "\"Unknown or uninitialised column: 'value'.\"\n",
      "Warning message in FUN(newX[, i], ...):\n",
      "\"NAs introduced by coercion\"\n",
      "Warning message:\n",
      "\"Unknown or uninitialised column: 'value'.\"\n",
      "Warning message in FUN(newX[, i], ...):\n",
      "\"NAs introduced by coercion\"\n",
      "Warning message:\n",
      "\"Unknown or uninitialised column: 'value'.\"\n",
      "Warning message in FUN(newX[, i], ...):\n",
      "\"NAs introduced by coercion\"\n",
      "Warning message:\n",
      "\"Unknown or uninitialised column: 'value'.\"\n",
      "Warning message in FUN(newX[, i], ...):\n",
      "\"NAs introduced by coercion\"\n",
      "Warning message:\n",
      "\"Unknown or uninitialised column: 'value'.\"\n",
      "Warning message in FUN(newX[, i], ...):\n",
      "\"NAs introduced by coercion\"\n",
      "Warning message:\n",
      "\"Unknown or uninitialised column: 'value'.\"\n",
      "Warning message in FUN(newX[, i], ...):\n",
      "\"NAs introduced by coercion\"\n",
      "Warning message:\n",
      "\"Unknown or uninitialised column: 'value'.\"\n",
      "Warning message in FUN(newX[, i], ...):\n",
      "\"NAs introduced by coercion\"\n",
      "Warning message:\n",
      "\"Unknown or uninitialised column: 'value'.\"\n",
      "Warning message in FUN(newX[, i], ...):\n",
      "\"NAs introduced by coercion\"\n",
      "Warning message:\n",
      "\"Unknown or uninitialised column: 'value'.\"\n",
      "Warning message in FUN(newX[, i], ...):\n",
      "\"NAs introduced by coercion\"\n",
      "Warning message:\n",
      "\"Unknown or uninitialised column: 'value'.\"\n",
      "Warning message in FUN(newX[, i], ...):\n",
      "\"NAs introduced by coercion\"\n",
      "Warning message:\n",
      "\"Unknown or uninitialised column: 'value'.\"\n",
      "Warning message in FUN(newX[, i], ...):\n",
      "\"NAs introduced by coercion\"\n",
      "Warning message:\n",
      "\"Unknown or uninitialised column: 'value'.\"\n",
      "Warning message in FUN(newX[, i], ...):\n",
      "\"NAs introduced by coercion\"\n",
      "Warning message:\n",
      "\"Unknown or uninitialised column: 'value'.\"\n",
      "Warning message in FUN(newX[, i], ...):\n",
      "\"NAs introduced by coercion\"\n",
      "Warning message:\n",
      "\"Unknown or uninitialised column: 'value'.\"\n",
      "Warning message in FUN(newX[, i], ...):\n",
      "\"NAs introduced by coercion\"\n",
      "Warning message:\n",
      "\"Unknown or uninitialised column: 'value'.\"\n",
      "Warning message in FUN(newX[, i], ...):\n",
      "\"NAs introduced by coercion\"\n",
      "Warning message:\n",
      "\"Unknown or uninitialised column: 'value'.\"\n",
      "Warning message in FUN(newX[, i], ...):\n",
      "\"NAs introduced by coercion\"\n",
      "Warning message:\n",
      "\"Unknown or uninitialised column: 'value'.\"\n",
      "Warning message in FUN(newX[, i], ...):\n",
      "\"NAs introduced by coercion\"\n",
      "Warning message:\n",
      "\"Unknown or uninitialised column: 'value'.\"\n",
      "Warning message in FUN(newX[, i], ...):\n",
      "\"NAs introduced by coercion\"\n",
      "Warning message:\n",
      "\"Unknown or uninitialised column: 'value'.\"\n",
      "Warning message in FUN(newX[, i], ...):\n",
      "\"NAs introduced by coercion\"\n",
      "Warning message:\n",
      "\"Unknown or uninitialised column: 'value'.\"\n",
      "Warning message in FUN(newX[, i], ...):\n",
      "\"NAs introduced by coercion\"\n",
      "Warning message:\n",
      "\"Unknown or uninitialised column: 'value'.\"\n",
      "Warning message in FUN(newX[, i], ...):\n",
      "\"NAs introduced by coercion\"\n",
      "Warning message:\n",
      "\"Unknown or uninitialised column: 'value'.\"\n",
      "Warning message in FUN(newX[, i], ...):\n",
      "\"NAs introduced by coercion\"\n",
      "Warning message:\n",
      "\"Unknown or uninitialised column: 'value'.\"\n",
      "Warning message in FUN(newX[, i], ...):\n",
      "\"NAs introduced by coercion\"\n",
      "Warning message:\n",
      "\"Unknown or uninitialised column: 'value'.\"\n",
      "Warning message in FUN(newX[, i], ...):\n",
      "\"NAs introduced by coercion\"\n",
      "Warning message:\n",
      "\"Unknown or uninitialised column: 'value'.\"\n",
      "Warning message in FUN(newX[, i], ...):\n",
      "\"NAs introduced by coercion\"\n",
      "Warning message:\n",
      "\"Unknown or uninitialised column: 'value'.\"\n",
      "Warning message in FUN(newX[, i], ...):\n",
      "\"NAs introduced by coercion\"\n",
      "Warning message:\n",
      "\"Unknown or uninitialised column: 'value'.\"\n",
      "Warning message in FUN(newX[, i], ...):\n",
      "\"NAs introduced by coercion\"\n",
      "Warning message:\n",
      "\"Unknown or uninitialised column: 'value'.\"\n",
      "Warning message in FUN(newX[, i], ...):\n",
      "\"NAs introduced by coercion\"\n",
      "Warning message:\n",
      "\"Unknown or uninitialised column: 'value'.\"\n",
      "Warning message in FUN(newX[, i], ...):\n",
      "\"NAs introduced by coercion\"\n",
      "Warning message:\n",
      "\"Unknown or uninitialised column: 'value'.\"\n",
      "Warning message in FUN(newX[, i], ...):\n",
      "\"NAs introduced by coercion\"\n",
      "Warning message:\n",
      "\"Unknown or uninitialised column: 'value'.\"\n",
      "Warning message in FUN(newX[, i], ...):\n",
      "\"NAs introduced by coercion\"\n",
      "Warning message:\n",
      "\"Unknown or uninitialised column: 'value'.\"\n",
      "Warning message in FUN(newX[, i], ...):\n",
      "\"NAs introduced by coercion\"\n",
      "Warning message:\n",
      "\"Unknown or uninitialised column: 'value'.\"\n",
      "Warning message in FUN(newX[, i], ...):\n",
      "\"NAs introduced by coercion\"\n",
      "Warning message:\n",
      "\"Unknown or uninitialised column: 'value'.\"\n",
      "Warning message in FUN(newX[, i], ...):\n",
      "\"NAs introduced by coercion\"\n",
      "Warning message:\n",
      "\"Unknown or uninitialised column: 'value'.\"\n",
      "Warning message in FUN(newX[, i], ...):\n",
      "\"NAs introduced by coercion\"\n",
      "Warning message:\n",
      "\"Unknown or uninitialised column: 'value'.\"\n",
      "Warning message in FUN(newX[, i], ...):\n",
      "\"NAs introduced by coercion\"\n",
      "Warning message:\n",
      "\"Unknown or uninitialised column: 'value'.\"\n",
      "Warning message in FUN(newX[, i], ...):\n",
      "\"NAs introduced by coercion\"\n",
      "Warning message:\n",
      "\"Unknown or uninitialised column: 'value'.\"\n",
      "Warning message in FUN(newX[, i], ...):\n",
      "\"NAs introduced by coercion\"\n",
      "Warning message:\n",
      "\"Unknown or uninitialised column: 'value'.\"\n"
     ]
    },
    {
     "data": {
      "image/png": "[encoded data removed]",
      "text/plain": [
       "plot without title"
      ]
     },
     "metadata": {
      "image/png": {
       "height": 420,
       "width": 420
      },
      "text/plain": {
       "height": 420,
       "width": 420
      }
     },
     "output_type": "display_data"
    }
   ],
   "source": [
    "# Compute percentages with dplyr\n",
    "library(dplyr)\n",
    "data <- data  %>%\n",
    "  group_by(time, group) %>%\n",
    "  summarise(n = sum(value)) %>%\n",
    "  mutate(percentage = n / sum(n))\n",
    "\n",
    "# Plot\n",
    "ggplot(data, aes(x=time, y=percentage, fill=group)) + \n",
    "    geom_area(alpha=0.6 , size=1, colour=\"black\")\n",
    "\n",
    "# Note: compute percentages without dplyr:\n",
    "my_fun <- function(vec){ \n",
    "  as.numeric(vec[2]) / sum(data$value[data$time==vec[1]]) *100 \n",
    "}\n",
    "data$percentage <- apply(data , 1 , my_fun)"
   ]
  },
  {
   "cell_type": "markdown",
   "metadata": {},
   "source": [
    "### **การใส่สีและรูปแบบของกราฟ**"
   ]
  },
  {
   "cell_type": "markdown",
   "metadata": {},
   "source": [
    "> #### ใส่สีด้วย **Viridis**"
   ]
  },
  {
   "cell_type": "markdown",
   "metadata": {},
   "source": [
    "> #### เปลี่ยนธีมด้วย **theme_ipsum**"
   ]
  },
  {
   "cell_type": "markdown",
   "metadata": {},
   "source": [
    "> #### เพิ่มชื่อเรื่องด้วย **ggtitle()**"
   ]
  },
  {
   "cell_type": "code",
   "execution_count": 7,
   "metadata": {},
   "outputs": [
    {
     "name": "stderr",
     "output_type": "stream",
     "text": [
      "Loading required package: viridisLite\n",
      "\n",
      "NOTE: Either Arial Narrow or Roboto Condensed fonts are required to use these themes.\n",
      "\n",
      "      Please use hrbrthemes::import_roboto_condensed() to install Roboto Condensed and\n",
      "\n",
      "      if Arial Narrow is not on your system, please see http://bit.ly/arialnarrow\n",
      "\n",
      "Warning message in grid.Call(C_stringMetric, as.graphicsAnnot(x$label)):\n",
      "\"font family not found in Windows font database\"\n",
      "Warning message in grid.Call(C_stringMetric, as.graphicsAnnot(x$label)):\n",
      "\"font family not found in Windows font database\"\n",
      "Warning message in grid.Call(C_textBounds, as.graphicsAnnot(x$label), x$x, x$y, :\n",
      "\"font family not found in Windows font database\"\n",
      "Warning message in grid.Call(C_stringMetric, as.graphicsAnnot(x$label)):\n",
      "\"font family not found in Windows font database\"\n",
      "Warning message in grid.Call(C_stringMetric, as.graphicsAnnot(x$label)):\n",
      "\"font family not found in Windows font database\"\n",
      "Warning message in grid.Call(C_textBounds, as.graphicsAnnot(x$label), x$x, x$y, :\n",
      "\"font family not found in Windows font database\"\n",
      "Warning message in grid.Call(C_textBounds, as.graphicsAnnot(x$label), x$x, x$y, :\n",
      "\"font family not found in Windows font database\"\n",
      "Warning message in grid.Call(C_textBounds, as.graphicsAnnot(x$label), x$x, x$y, :\n",
      "\"font family not found in Windows font database\"\n",
      "Warning message in grid.Call(C_textBounds, as.graphicsAnnot(x$label), x$x, x$y, :\n",
      "\"font family not found in Windows font database\"\n",
      "Warning message in grid.Call(C_textBounds, as.graphicsAnnot(x$label), x$x, x$y, :\n",
      "\"font family not found in Windows font database\"\n",
      "Warning message in grid.Call(C_textBounds, as.graphicsAnnot(x$label), x$x, x$y, :\n",
      "\"font family not found in Windows font database\"\n",
      "Warning message in grid.Call(C_textBounds, as.graphicsAnnot(x$label), x$x, x$y, :\n",
      "\"font family not found in Windows font database\"\n",
      "Warning message in grid.Call(C_textBounds, as.graphicsAnnot(x$label), x$x, x$y, :\n",
      "\"font family not found in Windows font database\"\n",
      "Warning message in grid.Call(C_textBounds, as.graphicsAnnot(x$label), x$x, x$y, :\n",
      "\"font family not found in Windows font database\"\n",
      "Warning message in grid.Call(C_textBounds, as.graphicsAnnot(x$label), x$x, x$y, :\n",
      "\"font family not found in Windows font database\"\n",
      "Warning message in grid.Call.graphics(C_text, as.graphicsAnnot(x$label), x$x, x$y, :\n",
      "\"font family not found in Windows font database\"\n",
      "Warning message in grid.Call(C_textBounds, as.graphicsAnnot(x$label), x$x, x$y, :\n",
      "\"font family not found in Windows font database\"\n",
      "Warning message in grid.Call(C_textBounds, as.graphicsAnnot(x$label), x$x, x$y, :\n",
      "\"font family not found in Windows font database\"\n",
      "Warning message in grid.Call(C_textBounds, as.graphicsAnnot(x$label), x$x, x$y, :\n",
      "\"font family not found in Windows font database\"\n"
     ]
    },
    {
     "data": {
      "image/png": "[encoded data removed]",
      "text/plain": [
       "plot without title"
      ]
     },
     "metadata": {
      "image/png": {
       "height": 420,
       "width": 420
      },
      "text/plain": {
       "height": 420,
       "width": 420
      }
     },
     "output_type": "display_data"
    }
   ],
   "source": [
    "# Library\n",
    "library(viridis)\n",
    "library(hrbrthemes)\n",
    "\n",
    "# Plot\n",
    "ggplot(data, aes(x=time, y=value, fill=group)) + \n",
    "    geom_area(alpha=0.6 , size=.5, colour=\"white\") +\n",
    "    scale_fill_viridis(discrete = T) +\n",
    "    theme_ipsum() + \n",
    "    ggtitle(\"The race between ...\")"
   ]
  }
 ],
 "metadata": {
  "kernelspec": {
   "display_name": "R",
   "language": "R",
   "name": "ir"
  },
  "language_info": {
   "codemirror_mode": "r",
   "file_extension": ".r",
   "mimetype": "text/x-r-source",
   "name": "R",
   "pygments_lexer": "r",
   "version": "3.6.2"
  }
 },
 "nbformat": 4,
 "nbformat_minor": 4
}
