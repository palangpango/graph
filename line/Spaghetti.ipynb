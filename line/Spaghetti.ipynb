{
 "cells": [
  {
   "cell_type": "markdown",
   "metadata": {},
   "source": [
    "# **THE SPAGHETTI PLOT**"
   ]
  },
  {
   "cell_type": "markdown",
   "metadata": {},
   "source": [
    "> #### เป็น line plot ที่มากกว่า 5 เส้นขึ้นไป"
   ]
  },
  {
   "cell_type": "code",
   "execution_count": 10,
   "metadata": {},
   "outputs": [
    {
     "name": "stderr",
     "output_type": "stream",
     "text": [
      "Installing package into 'C:/Users/Lenovo/Documents/R/win-library/3.6'\n",
      "(as 'lib' is unspecified)\n",
      "\n",
      "Warning message:\n",
      "\"package 'steamgraph' is not available (for R version 3.6.2)\"\n"
     ]
    },
    {
     "ename": "ERROR",
     "evalue": "Error in library(streamgraph): there is no package called 'streamgraph'\n",
     "output_type": "error",
     "traceback": [
      "Error in library(streamgraph): there is no package called 'streamgraph'\nTraceback:\n",
      "1. library(streamgraph)"
     ]
    }
   ],
   "source": [
    "install.packages(\"steamgraph\")\n",
    "# Libraries\n",
    "library(tidyverse)\n",
    "library(hrbrthemes)\n",
    "library(kableExtra)\n",
    "options(knitr.table.format = \"html\")\n",
    "library(babynames)\n",
    "library(streamgraph)\n",
    "library(viridis)\n",
    "library(DT)\n",
    "library(plotly)\n",
    "\n",
    "# Load dataset from github\n",
    "data <- babynames %>% \n",
    "  filter(name %in% c(\"Mary\",\"Emma\", \"Ida\", \"Ashley\", \"Amanda\", \"Jessica\",    \"Patricia\", \"Linda\", \"Deborah\",   \"Dorothy\", \"Betty\", \"Helen\")) %>%\n",
    "  filter(sex==\"F\")\n",
    "\n",
    "# Plot\n",
    "data %>%\n",
    "  ggplot( aes(x=year, y=n, group=name, color=name)) +\n",
    "    geom_line() +\n",
    "    scale_color_viridis(discrete = TRUE) +\n",
    "    theme(\n",
    "      legend.position=\"none\",\n",
    "      plot.title = element_text(size=14)\n",
    "    ) +\n",
    "    ggtitle(\"A spaghetti chart of baby names popularity\") +\n",
    "    theme_ipsum()"
   ]
  },
  {
   "cell_type": "code",
   "execution_count": null,
   "metadata": {},
   "outputs": [],
   "source": []
  }
 ],
 "metadata": {
  "kernelspec": {
   "display_name": "R",
   "language": "R",
   "name": "ir"
  },
  "language_info": {
   "codemirror_mode": "r",
   "file_extension": ".r",
   "mimetype": "text/x-r-source",
   "name": "R",
   "pygments_lexer": "r",
   "version": "3.6.2"
  }
 },
 "nbformat": 4,
 "nbformat_minor": 4
}
