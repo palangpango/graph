{
 "cells": [
  {
   "cell_type": "markdown",
   "metadata": {},
   "source": [
    "## **chord diagram**"
   ]
  },
  {
   "cell_type": "markdown",
   "metadata": {},
   "source": [
    "#### สร้างการเชื่อมต่อระหว่าง track ด้วย **circos.links()**"
   ]
  },
  {
   "cell_type": "code",
   "execution_count": 2,
   "metadata": {},
   "outputs": [
    {
     "name": "stderr",
     "output_type": "stream",
     "text": [
      "========================================\n",
      "circlize version 0.4.8\n",
      "CRAN page: https://cran.r-project.org/package=circlize\n",
      "Github page: https://github.com/jokergoo/circlize\n",
      "Documentation: http://jokergoo.github.io/circlize_book/book/\n",
      "\n",
      "If you use it in published research, please cite:\n",
      "Gu, Z. circlize implements and enhances circular visualization \n",
      "  in R. Bioinformatics 2014.\n",
      "========================================\n",
      "\n",
      "\n"
     ]
    },
    {
     "data": {
      "image/png": "[encoded data removed]",
      "text/plain": [
       "plot without title"
      ]
     },
     "metadata": {
      "image/png": {
       "height": 420,
       "width": 420
      },
      "text/plain": {
       "height": 420,
       "width": 420
      }
     },
     "output_type": "display_data"
    }
   ],
   "source": [
    "# library\n",
    "library(circlize)\n",
    " \n",
    "# Create data\n",
    "set.seed(123)\n",
    "data = data.frame(\n",
    "    factor = sample(letters[1:8], 1000, replace = TRUE),\n",
    "    x = rnorm(1000), \n",
    "    y = runif(1000)\n",
    "    )\n",
    " \n",
    "# Initialize the plot.\n",
    "par(mar = c(1, 1, 1, 1) ) \n",
    "circos.initialize(factors = data$factor, x = data$x )\n",
    " \n",
    "# Build the regions of track #1\n",
    "circos.trackPlotRegion(factors = data$factor, y=data$y , bg.col = rgb(0.1,0.1,seq(0,1,0.1),0.4) , bg.border = NA)\n",
    " \n",
    "# Add a link between a point and another\n",
    "circos.link(\"a\", 0, \"b\", 0, h = 0.4)\n",
    " \n",
    "# Add a link between a point and a zone\n",
    "circos.link(\"e\", 0, \"g\", c(-1,1), col = \"green\", lwd = 2, lty = 2, border=\"black\" )\n",
    " \n",
    "# Add a link between a zone and another\n",
    "circos.link(\"c\", c(-0.5, 0.5), \"d\", c(-0.5,0.5), col = \"red\", border = \"blue\", h = 0.2)"
   ]
  }
 ],
 "metadata": {
  "kernelspec": {
   "display_name": "R",
   "language": "R",
   "name": "ir"
  },
  "language_info": {
   "codemirror_mode": "r",
   "file_extension": ".r",
   "mimetype": "text/x-r-source",
   "name": "R",
   "pygments_lexer": "r",
   "version": "3.6.2"
  }
 },
 "nbformat": 4,
 "nbformat_minor": 4
}
