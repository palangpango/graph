{
 "cells": [
  {
   "cell_type": "markdown",
   "metadata": {},
   "source": [
    "# **Reorder a variable with ggplot2**"
   ]
  },
  {
   "cell_type": "markdown",
   "metadata": {},
   "source": [
    "#### สร้างข้อมูล"
   ]
  },
  {
   "cell_type": "code",
   "execution_count": 15,
   "metadata": {},
   "outputs": [
    {
     "name": "stderr",
     "output_type": "stream",
     "text": [
      "\n",
      "Attaching package: 'dplyr'\n",
      "\n",
      "\n",
      "The following objects are masked from 'package:stats':\n",
      "\n",
      "    filter, lag\n",
      "\n",
      "\n",
      "The following objects are masked from 'package:base':\n",
      "\n",
      "    intersect, setdiff, setequal, union\n",
      "\n",
      "\n"
     ]
    },
    {
     "data": {
      "text/html": [
       "<table>\n",
       "<caption>A data.frame: 8 × 2</caption>\n",
       "<thead>\n",
       "\t<tr><th scope=col>name</th><th scope=col>val</th></tr>\n",
       "\t<tr><th scope=col>&lt;fct&gt;</th><th scope=col>&lt;int&gt;</th></tr>\n",
       "</thead>\n",
       "<tbody>\n",
       "\t<tr><td>north     </td><td> 3</td></tr>\n",
       "\t<tr><td>south     </td><td> 8</td></tr>\n",
       "\t<tr><td>south-east</td><td> 9</td></tr>\n",
       "\t<tr><td>north-west</td><td> 1</td></tr>\n",
       "\t<tr><td>south-west</td><td> 7</td></tr>\n",
       "\t<tr><td>north-east</td><td>10</td></tr>\n",
       "\t<tr><td>west      </td><td> 2</td></tr>\n",
       "\t<tr><td>east      </td><td> 5</td></tr>\n",
       "</tbody>\n",
       "</table>\n"
      ],
      "text/latex": [
       "A data.frame: 8 × 2\n",
       "\\begin{tabular}{ll}\n",
       " name & val\\\\\n",
       " <fct> & <int>\\\\\n",
       "\\hline\n",
       "\t north      &  3\\\\\n",
       "\t south      &  8\\\\\n",
       "\t south-east &  9\\\\\n",
       "\t north-west &  1\\\\\n",
       "\t south-west &  7\\\\\n",
       "\t north-east & 10\\\\\n",
       "\t west       &  2\\\\\n",
       "\t east       &  5\\\\\n",
       "\\end{tabular}\n"
      ],
      "text/markdown": [
       "\n",
       "A data.frame: 8 × 2\n",
       "\n",
       "| name &lt;fct&gt; | val &lt;int&gt; |\n",
       "|---|---|\n",
       "| north      |  3 |\n",
       "| south      |  8 |\n",
       "| south-east |  9 |\n",
       "| north-west |  1 |\n",
       "| south-west |  7 |\n",
       "| north-east | 10 |\n",
       "| west       |  2 |\n",
       "| east       |  5 |\n",
       "\n"
      ],
      "text/plain": [
       "  name       val\n",
       "1 north       3 \n",
       "2 south       8 \n",
       "3 south-east  9 \n",
       "4 north-west  1 \n",
       "5 south-west  7 \n",
       "6 north-east 10 \n",
       "7 west        2 \n",
       "8 east        5 "
      ]
     },
     "metadata": {},
     "output_type": "display_data"
    }
   ],
   "source": [
    "# Library\n",
    "library(ggplot2)\n",
    "library(dplyr)\n",
    "\n",
    "# Dataset 1: one value per group\n",
    "data <- data.frame(\n",
    "  name=c(\"north\",\"south\",\"south-east\",\"north-west\",\"south-west\",\"north-east\",\"west\",\"east\"),\n",
    "  val=sample(seq(1,10), 8 )\n",
    ")\n",
    " \n",
    "# Dataset 2: several values per group (natively provided in R)\n",
    "# mpg\n",
    "data"
   ]
  },
  {
   "cell_type": "markdown",
   "metadata": {},
   "source": [
    "## **วิธีที่ 1 ใช้  Forecats library**"
   ]
  },
  {
   "cell_type": "markdown",
   "metadata": {},
   "source": [
    "#### เป็น library ของ tidyverse เราสามารถจัดการข้อมูลด้วยฟังก์ชั่น **fct_reorder( )**"
   ]
  },
  {
   "cell_type": "code",
   "execution_count": 16,
   "metadata": {},
   "outputs": [
    {
     "data": {
      "image/png": "[encoded data removed]",
      "text/plain": [
       "plot without title"
      ]
     },
     "metadata": {
      "image/png": {
       "height": 420,
       "width": 420
      },
      "text/plain": {
       "height": 420,
       "width": 420
      }
     },
     "output_type": "display_data"
    },
    {
     "data": {
      "image/png": "[encoded data removed]",
      "text/plain": [
       "plot without title"
      ]
     },
     "metadata": {
      "image/png": {
       "height": 420,
       "width": 420
      },
      "text/plain": {
       "height": 420,
       "width": 420
      }
     },
     "output_type": "display_data"
    }
   ],
   "source": [
    "# load the library\n",
    "library(forcats)\n",
    "\n",
    "# Reorder following the value of another column:\n",
    "r1 = data %>%\n",
    "  mutate(name = fct_reorder(name, val)) %>%\n",
    "  ggplot( aes(x=name, y=val)) +\n",
    "    geom_bar(stat=\"identity\", fill=\"#f68060\", alpha=.6, width=.4) +\n",
    "    coord_flip() +\n",
    "    xlab(\"\") +\n",
    "    theme_bw()\n",
    " \n",
    "# Reverse side\n",
    "r2 = data %>%\n",
    "  mutate(name = fct_reorder(name, desc(val))) %>%\n",
    "  ggplot( aes(x=name, y=val)) +\n",
    "    geom_bar(stat=\"identity\", fill=\"#f68060\", alpha=.6, width=.4) +\n",
    "    coord_flip() +\n",
    "    xlab(\"\") +\n",
    "    theme_bw()\n",
    "r1\n",
    "r2\n"
   ]
  },
  {
   "cell_type": "markdown",
   "metadata": {},
   "source": [
    "#### ถ้าตัวแปรมีหลายค่า สามารถใช้วิธีกำหนดค่าได้ 2 วิธี"
   ]
  },
  {
   "cell_type": "markdown",
   "metadata": {},
   "source": [
    "> #### 1) ใช้ค่า median  2) จำนวนตัวอย่างในกลุ่มข้อมูล"
   ]
  },
  {
   "cell_type": "markdown",
   "metadata": {},
   "source": [
    "### **1) ใช้ค่า median**"
   ]
  },
  {
   "cell_type": "code",
   "execution_count": 17,
   "metadata": {},
   "outputs": [
    {
     "data": {
      "image/png": "[encoded data removed]",
      "text/plain": [
       "plot without title"
      ]
     },
     "metadata": {
      "image/png": {
       "height": 420,
       "width": 420
      },
      "text/plain": {
       "height": 420,
       "width": 420
      }
     },
     "output_type": "display_data"
    }
   ],
   "source": [
    "# Using median\n",
    "mpg %>%\n",
    "  mutate(class = fct_reorder(class, hwy, .fun='median')) %>%\n",
    "  ggplot( aes(x=reorder(class, hwy), y=hwy, fill=class)) + \n",
    "    geom_boxplot() +\n",
    "    xlab(\"class\") +\n",
    "    theme(legend.position=\"none\") +\n",
    "    xlab(\"\")\n",
    " "
   ]
  },
  {
   "cell_type": "markdown",
   "metadata": {},
   "source": [
    "### **2) จำนวนตัวอย่างในกลุ่มข้อมูล**"
   ]
  },
  {
   "cell_type": "code",
   "execution_count": 18,
   "metadata": {},
   "outputs": [
    {
     "data": {
      "image/png": "[encoded data removed]",
      "text/plain": [
       "plot without title"
      ]
     },
     "metadata": {
      "image/png": {
       "height": 420,
       "width": 420
      },
      "text/plain": {
       "height": 420,
       "width": 420
      }
     },
     "output_type": "display_data"
    }
   ],
   "source": [
    "# Using number of observation per group\n",
    "mpg %>%\n",
    "  mutate(class = fct_reorder(class, hwy, .fun='length' )) %>%\n",
    "  ggplot( aes(x=class, y=hwy, fill=class)) + \n",
    "    geom_boxplot() +\n",
    "    xlab(\"class\") +\n",
    "    theme(legend.position=\"none\") +\n",
    "    xlab(\"\") +\n",
    "    xlab(\"\")"
   ]
  },
  {
   "cell_type": "markdown",
   "metadata": {},
   "source": [
    "#### และยังมีการจัดการข้อมูลโดยแบ่ง level โดยใช้ฟังก์ชั่น **fct_releval( )**"
   ]
  },
  {
   "cell_type": "code",
   "execution_count": 19,
   "metadata": {},
   "outputs": [
    {
     "data": {
      "image/png": "[encoded data removed]",
      "text/plain": [
       "plot without title"
      ]
     },
     "metadata": {
      "image/png": {
       "height": 420,
       "width": 420
      },
      "text/plain": {
       "height": 420,
       "width": 420
      }
     },
     "output_type": "display_data"
    }
   ],
   "source": [
    "# Reorder following a precise order\n",
    "p <- data %>%\n",
    "  mutate(name = fct_relevel(name, \n",
    "            \"north\", \"north-east\", \"east\", \n",
    "            \"south-east\", \"south\", \"south-west\", \n",
    "            \"west\", \"north-west\")) %>%\n",
    "  ggplot( aes(x=name, y=val)) +\n",
    "    geom_bar(stat=\"identity\") +\n",
    "    xlab(\"\")\n",
    "p"
   ]
  },
  {
   "cell_type": "markdown",
   "metadata": {},
   "source": [
    "## **วิธีที่ 2 ใช้  dplyr**"
   ]
  },
  {
   "cell_type": "markdown",
   "metadata": {},
   "source": [
    "#### ใช้ฟังก์ชั่น **mutate( )** เพื่อสร้างตัวแปรใหม่หรือปรับเปลี่ยนตัวแปรเดิม ใช้สำหรับสร้างตัวแปรที่ต้องการคำสั่งเฉพาะ"
   ]
  },
  {
   "cell_type": "markdown",
   "metadata": {},
   "source": [
    "#### มี 2 ขั้นตอน ดังนี้ \n"
   ]
  },
  {
   "cell_type": "markdown",
   "metadata": {},
   "source": [
    ">    #### 1) ใช้ฟังก์ชั่น **arrange( )** เพื่อจัดเรียงข้อมูลใน data frame และจัดข้อมูลตามที่ต้องการ"
   ]
  },
  {
   "cell_type": "markdown",
   "metadata": {},
   "source": [
    "> #### 2) The second specifies a custom order for the factor giving the levels one by one"
   ]
  },
  {
   "cell_type": "code",
   "execution_count": 28,
   "metadata": {},
   "outputs": [
    {
     "data": {
      "image/png": "[encoded data removed]",
      "text/plain": [
       "plot without title"
      ]
     },
     "metadata": {
      "image/png": {
       "height": 420,
       "width": 420
      },
      "text/plain": {
       "height": 420,
       "width": 420
      }
     },
     "output_type": "display_data"
    },
    {
     "data": {
      "image/png": "[encoded data removed]",
      "text/plain": [
       "plot without title"
      ]
     },
     "metadata": {
      "image/png": {
       "height": 420,
       "width": 420
      },
      "text/plain": {
       "height": 420,
       "width": 420
      }
     },
     "output_type": "display_data"
    }
   ],
   "source": [
    "data %>%\n",
    "  arrange(val) %>%    # First sort by val. This sort the dataframe but NOT the factor levels\n",
    "  mutate(name=factor(name, levels=name)) %>%   # This trick update the factor levels\n",
    "  ggplot( aes(x=name, y=val)) +\n",
    "    geom_segment( aes(xend=name, yend=0)) +\n",
    "    geom_point( size=4, color=\"orange\") +\n",
    "    coord_flip() +\n",
    "    theme_bw() +\n",
    "    xlab(\"\")\n",
    " \n",
    "data %>%\n",
    "  arrange(val) %>%\n",
    "  mutate(name = factor(name, levels=c(\"north\", \"north-east\", \"east\", \"south-east\", \"south\", \"south-west\", \"west\", \"north-west\"))) %>%\n",
    "  ggplot( aes(x=name, y=val)) +\n",
    "    geom_segment( aes(xend=name, yend=0)) +\n",
    "    geom_point( size=4, color=\"orange\") +\n",
    "    theme_bw() +\n",
    "    xlab(\"\")"
   ]
  },
  {
   "cell_type": "markdown",
   "metadata": {},
   "source": [
    "## **วิธีที่ 3 ใช้ฟังก์ชั่น reorder( ) ของ base R**"
   ]
  },
  {
   "cell_type": "markdown",
   "metadata": {},
   "source": [
    "> #### ใช้ฟังก์ชั่น **reorder( )** ใน **with( )**"
   ]
  },
  {
   "cell_type": "code",
   "execution_count": 30,
   "metadata": {},
   "outputs": [
    {
     "data": {
      "image/png": "[encoded data removed]",
      "text/plain": [
       "plot without title"
      ]
     },
     "metadata": {
      "image/png": {
       "height": 420,
       "width": 420
      },
      "text/plain": {
       "height": 420,
       "width": 420
      }
     },
     "output_type": "display_data"
    }
   ],
   "source": [
    "# reorder is close to order, but is made to change the order of the factor levels.\n",
    "mpg$class = with(mpg, reorder(class, hwy, median))\n",
    "\n",
    "p <- mpg %>%\n",
    "  ggplot( aes(x=class, y=hwy, fill=class)) + \n",
    "    geom_violin() +\n",
    "    xlab(\"class\") +\n",
    "    theme(legend.position=\"none\") +\n",
    "    xlab(\"\")\n",
    "p"
   ]
  }
 ],
 "metadata": {
  "kernelspec": {
   "display_name": "R",
   "language": "R",
   "name": "ir"
  },
  "language_info": {
   "codemirror_mode": "r",
   "file_extension": ".r",
   "mimetype": "text/x-r-source",
   "name": "R",
   "pygments_lexer": "r",
   "version": "3.6.2"
  }
 },
 "nbformat": 4,
 "nbformat_minor": 4
}
