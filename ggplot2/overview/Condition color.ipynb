{
 "cells": [
  {
   "cell_type": "markdown",
   "metadata": {},
   "source": [
    "# **conditional color on ggplot2**"
   ]
  },
  {
   "cell_type": "markdown",
   "metadata": {},
   "source": [
    "> #### เพิ่ม column ใหม่ที่เป็นเง่อนไขที่ต้องการให้กับ dataframe ใช้ **ifelse**"
   ]
  },
  {
   "cell_type": "markdown",
   "metadata": {},
   "source": [
    "> #### ใส่สีให้กับ column โดยใช้ **color**"
   ]
  },
  {
   "cell_type": "code",
   "execution_count": 2,
   "metadata": {},
   "outputs": [
    {
     "name": "stderr",
     "output_type": "stream",
     "text": [
      "\n",
      "Attaching package: 'dplyr'\n",
      "\n",
      "\n",
      "The following objects are masked from 'package:stats':\n",
      "\n",
      "    filter, lag\n",
      "\n",
      "\n",
      "The following objects are masked from 'package:base':\n",
      "\n",
      "    intersect, setdiff, setequal, union\n",
      "\n",
      "\n"
     ]
    },
    {
     "data": {
      "image/png": "[encoded data removed]",
      "text/plain": [
       "plot without title"
      ]
     },
     "metadata": {
      "image/png": {
       "height": 420,
       "width": 420
      },
      "text/plain": {
       "height": 420,
       "width": 420
      }
     },
     "output_type": "display_data"
    }
   ],
   "source": [
    "# library\n",
    "library(ggplot2)\n",
    "library(dplyr)\n",
    "\n",
    "# Create data (this takes more sense with a numerical X axis)\n",
    "x <- seq(0, 2*pi, length.out=100)\n",
    "data <- data.frame(\n",
    "  x=x, \n",
    "  y=sin(x) + rnorm(100, sd=0.2)\n",
    ")\n",
    " \n",
    "# Add a column with your condition for the color\n",
    "data <- data %>% \n",
    "  mutate(mycolor = ifelse(y>0, \"type1\", \"type2\"))\n",
    " \n",
    "# plot\n",
    "ggplot(data, aes(x=x, y=y)) +\n",
    "  geom_segment( aes(x=x, xend=x, y=0, yend=y, color=mycolor), size=1.3, alpha=0.9) +\n",
    "  theme_light() +\n",
    "  theme(\n",
    "    legend.position = \"none\",\n",
    "    panel.border = element_blank(),\n",
    "  ) +\n",
    "  xlab(\"\") +\n",
    "  ylab(\"Value of Y\")"
   ]
  }
 ],
 "metadata": {
  "kernelspec": {
   "display_name": "R",
   "language": "R",
   "name": "ir"
  },
  "language_info": {
   "codemirror_mode": "r",
   "file_extension": ".r",
   "mimetype": "text/x-r-source",
   "name": "R",
   "pygments_lexer": "r",
   "version": "3.6.2"
  }
 },
 "nbformat": 4,
 "nbformat_minor": 4
}
