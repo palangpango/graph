{
 "cells": [
  {
   "cell_type": "markdown",
   "metadata": {},
   "source": [
    "# **Lollipop chart with 2 groups**"
   ]
  },
  {
   "cell_type": "markdown",
   "metadata": {},
   "source": [
    "> #### ใช้เพื่อเปรียบเทียบข้อมูล 2 กลุ่ม มีชื่อเรียกอีกชื่อว่า Cleveland dot plots"
   ]
  },
  {
   "cell_type": "code",
   "execution_count": 3,
   "metadata": {},
   "outputs": [
    {
     "name": "stderr",
     "output_type": "stream",
     "text": [
      "\n",
      "Attaching package: 'dplyr'\n",
      "\n",
      "\n",
      "The following objects are masked from 'package:stats':\n",
      "\n",
      "    filter, lag\n",
      "\n",
      "\n",
      "The following objects are masked from 'package:base':\n",
      "\n",
      "    intersect, setdiff, setequal, union\n",
      "\n",
      "\n",
      "NOTE: Either Arial Narrow or Roboto Condensed fonts are required to use these themes.\n",
      "\n",
      "      Please use hrbrthemes::import_roboto_condensed() to install Roboto Condensed and\n",
      "\n",
      "      if Arial Narrow is not on your system, please see http://bit.ly/arialnarrow\n",
      "\n",
      "Warning message in mutate_impl(.data, dots, caller_env()):\n",
      "\"Unequal factor levels: coercing to character\"\n",
      "Warning message in mutate_impl(.data, dots, caller_env()):\n",
      "\"binding character and factor vector, coercing into character vector\"\n",
      "Warning message in mutate_impl(.data, dots, caller_env()):\n",
      "\"binding character and factor vector, coercing into character vector\"\n",
      "Warning message in mutate_impl(.data, dots, caller_env()):\n",
      "\"binding character and factor vector, coercing into character vector\"\n",
      "Warning message in mutate_impl(.data, dots, caller_env()):\n",
      "\"binding character and factor vector, coercing into character vector\"\n",
      "Warning message in mutate_impl(.data, dots, caller_env()):\n",
      "\"binding character and factor vector, coercing into character vector\"\n",
      "Warning message in mutate_impl(.data, dots, caller_env()):\n",
      "\"binding character and factor vector, coercing into character vector\"\n",
      "Warning message in mutate_impl(.data, dots, caller_env()):\n",
      "\"binding character and factor vector, coercing into character vector\"\n",
      "Warning message in mutate_impl(.data, dots, caller_env()):\n",
      "\"binding character and factor vector, coercing into character vector\"\n",
      "Warning message in mutate_impl(.data, dots, caller_env()):\n",
      "\"binding character and factor vector, coercing into character vector\"\n",
      "Warning message in mutate_impl(.data, dots, caller_env()):\n",
      "\"binding character and factor vector, coercing into character vector\"\n",
      "Warning message in mutate_impl(.data, dots, caller_env()):\n",
      "\"binding character and factor vector, coercing into character vector\"\n",
      "Warning message in mutate_impl(.data, dots, caller_env()):\n",
      "\"binding character and factor vector, coercing into character vector\"\n",
      "Warning message in mutate_impl(.data, dots, caller_env()):\n",
      "\"binding character and factor vector, coercing into character vector\"\n",
      "Warning message in mutate_impl(.data, dots, caller_env()):\n",
      "\"binding character and factor vector, coercing into character vector\"\n",
      "Warning message in mutate_impl(.data, dots, caller_env()):\n",
      "\"binding character and factor vector, coercing into character vector\"\n",
      "Warning message in mutate_impl(.data, dots, caller_env()):\n",
      "\"binding character and factor vector, coercing into character vector\"\n",
      "Warning message in mutate_impl(.data, dots, caller_env()):\n",
      "\"binding character and factor vector, coercing into character vector\"\n",
      "Warning message in mutate_impl(.data, dots, caller_env()):\n",
      "\"binding character and factor vector, coercing into character vector\"\n",
      "Warning message in mutate_impl(.data, dots, caller_env()):\n",
      "\"binding character and factor vector, coercing into character vector\"\n",
      "Warning message in mutate_impl(.data, dots, caller_env()):\n",
      "\"binding character and factor vector, coercing into character vector\"\n",
      "Warning message in mutate_impl(.data, dots, caller_env()):\n",
      "\"binding character and factor vector, coercing into character vector\"\n",
      "Warning message in mutate_impl(.data, dots, caller_env()):\n",
      "\"binding character and factor vector, coercing into character vector\"\n",
      "Warning message in mutate_impl(.data, dots, caller_env()):\n",
      "\"binding character and factor vector, coercing into character vector\"\n",
      "Warning message in mutate_impl(.data, dots, caller_env()):\n",
      "\"binding character and factor vector, coercing into character vector\"\n",
      "Warning message in mutate_impl(.data, dots, caller_env()):\n",
      "\"binding character and factor vector, coercing into character vector\"\n",
      "Warning message in mutate_impl(.data, dots, caller_env()):\n",
      "\"binding character and factor vector, coercing into character vector\"\n",
      "Warning message in grid.Call(C_stringMetric, as.graphicsAnnot(x$label)):\n",
      "\"font family not found in Windows font database\"\n",
      "Warning message in grid.Call(C_stringMetric, as.graphicsAnnot(x$label)):\n",
      "\"font family not found in Windows font database\"\n",
      "Warning message in grid.Call(C_textBounds, as.graphicsAnnot(x$label), x$x, x$y, :\n",
      "\"font family not found in Windows font database\"\n",
      "Warning message in grid.Call(C_textBounds, as.graphicsAnnot(x$label), x$x, x$y, :\n",
      "\"font family not found in Windows font database\"\n",
      "Warning message in grid.Call(C_textBounds, as.graphicsAnnot(x$label), x$x, x$y, :\n",
      "\"font family not found in Windows font database\"\n",
      "Warning message in grid.Call(C_textBounds, as.graphicsAnnot(x$label), x$x, x$y, :\n",
      "\"font family not found in Windows font database\"\n",
      "Warning message in grid.Call(C_textBounds, as.graphicsAnnot(x$label), x$x, x$y, :\n",
      "\"font family not found in Windows font database\"\n",
      "Warning message in grid.Call(C_textBounds, as.graphicsAnnot(x$label), x$x, x$y, :\n",
      "\"font family not found in Windows font database\"\n"
     ]
    },
    {
     "data": {
      "image/png": "[encoded data removed]",
      "text/plain": [
       "plot without title"
      ]
     },
     "metadata": {
      "image/png": {
       "height": 420,
       "width": 420
      },
      "text/plain": {
       "height": 420,
       "width": 420
      }
     },
     "output_type": "display_data"
    }
   ],
   "source": [
    "# Library\n",
    "library(ggplot2)\n",
    "library(dplyr)\n",
    "library(hrbrthemes)\n",
    "\n",
    "# Create data\n",
    "value1 <- abs(rnorm(26))*2\n",
    "data <- data.frame(\n",
    "  x=LETTERS[1:26], \n",
    "  value1=value1, \n",
    "  value2=value1+1+rnorm(26, sd=1) \n",
    ")\n",
    " \n",
    "# Reorder data using average? Learn more about reordering in chart #267\n",
    "data <- data %>% \n",
    "  rowwise() %>% \n",
    "  mutate( mymean = mean(c(value1,value2) )) %>% \n",
    "  arrange(mymean) %>% \n",
    "  mutate(x=factor(x, x))\n",
    " \n",
    "# Plot\n",
    "ggplot(data) +\n",
    "  geom_segment( aes(x=x, xend=x, y=value1, yend=value2), color=\"grey\") +\n",
    "  geom_point( aes(x=x, y=value1), color=rgb(0.2,0.7,0.1,0.5), size=3 ) +\n",
    "  geom_point( aes(x=x, y=value2), color=rgb(0.7,0.2,0.1,0.5), size=3 ) +\n",
    "  coord_flip()+\n",
    "  theme_ipsum() +\n",
    "  theme(\n",
    "    legend.position = \"none\",\n",
    "  ) +\n",
    "  xlab(\"\") +\n",
    "  ylab(\"Value of Y\")"
   ]
  }
 ],
 "metadata": {
  "kernelspec": {
   "display_name": "R",
   "language": "R",
   "name": "ir"
  },
  "language_info": {
   "codemirror_mode": "r",
   "file_extension": ".r",
   "mimetype": "text/x-r-source",
   "name": "R",
   "pygments_lexer": "r",
   "version": "3.6.2"
  }
 },
 "nbformat": 4,
 "nbformat_minor": 4
}
