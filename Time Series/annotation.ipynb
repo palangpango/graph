{
 "cells": [
  {
   "cell_type": "markdown",
   "metadata": {},
   "source": [
    "# **การสร้าง Annotation ใน Line Chart**"
   ]
  },
  {
   "cell_type": "code",
   "execution_count": 2,
   "metadata": {},
   "outputs": [
    {
     "name": "stderr",
     "output_type": "stream",
     "text": [
      "Warning message in grid.Call(C_textBounds, as.graphicsAnnot(x$label), x$x, x$y, :\n",
      "\"font family not found in Windows font database\"\n",
      "Warning message in grid.Call(C_textBounds, as.graphicsAnnot(x$label), x$x, x$y, :\n",
      "\"font family not found in Windows font database\"\n",
      "Warning message in grid.Call(C_textBounds, as.graphicsAnnot(x$label), x$x, x$y, :\n",
      "\"font family not found in Windows font database\"\n",
      "Warning message in grid.Call(C_textBounds, as.graphicsAnnot(x$label), x$x, x$y, :\n",
      "\"font family not found in Windows font database\"\n",
      "Warning message in grid.Call(C_textBounds, as.graphicsAnnot(x$label), x$x, x$y, :\n",
      "\"font family not found in Windows font database\"\n",
      "Warning message in grid.Call(C_textBounds, as.graphicsAnnot(x$label), x$x, x$y, :\n",
      "\"font family not found in Windows font database\"\n",
      "Warning message in grid.Call(C_textBounds, as.graphicsAnnot(x$label), x$x, x$y, :\n",
      "\"font family not found in Windows font database\"\n",
      "Warning message in grid.Call.graphics(C_text, as.graphicsAnnot(x$label), x$x, x$y, :\n",
      "\"font family not found in Windows font database\"\n"
     ]
    },
    {
     "data": {
      "image/png": "[encoded data removed]",
      "text/plain": [
       "plot without title"
      ]
     },
     "metadata": {
      "image/png": {
       "height": 420,
       "width": 420
      },
      "text/plain": {
       "height": 420,
       "width": 420
      }
     },
     "output_type": "display_data"
    }
   ],
   "source": [
    "# Libraries\n",
    "library(ggplot2)\n",
    "library(dplyr)\n",
    "library(plotly)\n",
    "library(hrbrthemes)\n",
    "\n",
    "# Load dataset from github\n",
    "data <- read.table(\"https://raw.githubusercontent.com/holtzy/data_to_viz/master/Example_dataset/3_TwoNumOrdered.csv\", header=T)\n",
    "data$date <- as.Date(data$date)\n",
    "\n",
    "# plot\n",
    "data %>% \n",
    "  ggplot( aes(x=date, y=value)) +\n",
    "    geom_line(color=\"#69b3a2\") +\n",
    "    ylim(0,22000) +\n",
    "    annotate(geom=\"text\", x=as.Date(\"2017-01-01\"), y=20089, \n",
    "             label=\"Bitcoin price reached 20k $\\nat the end of 2017\") +\n",
    "    annotate(geom=\"point\", x=as.Date(\"2017-12-17\"), y=20089, size=10, shape=21, fill=\"transparent\") +\n",
    "    geom_hline(yintercept=5000, color=\"orange\", size=.5) +\n",
    "    theme_ipsum()"
   ]
  }
 ],
 "metadata": {
  "kernelspec": {
   "display_name": "R",
   "language": "R",
   "name": "ir"
  },
  "language_info": {
   "codemirror_mode": "r",
   "file_extension": ".r",
   "mimetype": "text/x-r-source",
   "name": "R",
   "pygments_lexer": "r",
   "version": "3.6.2"
  }
 },
 "nbformat": 4,
 "nbformat_minor": 4
}
