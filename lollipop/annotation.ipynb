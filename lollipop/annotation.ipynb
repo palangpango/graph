{
 "cells": [
  {
   "cell_type": "markdown",
   "metadata": {},
   "source": [
    "# **Annotation**"
   ]
  },
  {
   "cell_type": "markdown",
   "metadata": {},
   "source": [
    "> #### การ Highlight เฉพาะข้อมูลที่เราต้องการจะสื่อกับผู้อ่าน"
   ]
  },
  {
   "cell_type": "markdown",
   "metadata": {},
   "source": [
    "> #### สามารถใช้ฟังก์ชั่น **Ifelse** เพื่อเปลี่ยน Size, Color, Alpha "
   ]
  },
  {
   "cell_type": "code",
   "execution_count": 3,
   "metadata": {},
   "outputs": [
    {
     "name": "stderr",
     "output_type": "stream",
     "text": [
      "\n",
      "Attaching package: 'dplyr'\n",
      "\n",
      "\n",
      "The following objects are masked from 'package:stats':\n",
      "\n",
      "    filter, lag\n",
      "\n",
      "\n",
      "The following objects are masked from 'package:base':\n",
      "\n",
      "    intersect, setdiff, setequal, union\n",
      "\n",
      "\n",
      "NOTE: Either Arial Narrow or Roboto Condensed fonts are required to use these themes.\n",
      "\n",
      "      Please use hrbrthemes::import_roboto_condensed() to install Roboto Condensed and\n",
      "\n",
      "      if Arial Narrow is not on your system, please see http://bit.ly/arialnarrow\n",
      "\n",
      "Warning message in grid.Call(C_stringMetric, as.graphicsAnnot(x$label)):\n",
      "\"font family not found in Windows font database\"\n",
      "Warning message in grid.Call(C_stringMetric, as.graphicsAnnot(x$label)):\n",
      "\"font family not found in Windows font database\"\n",
      "Warning message in grid.Call(C_stringMetric, as.graphicsAnnot(x$label)):\n",
      "\"font family not found in Windows font database\"\n",
      "Warning message in grid.Call(C_textBounds, as.graphicsAnnot(x$label), x$x, x$y, :\n",
      "\"font family not found in Windows font database\"\n",
      "Warning message in grid.Call(C_textBounds, as.graphicsAnnot(x$label), x$x, x$y, :\n",
      "\"font family not found in Windows font database\"\n",
      "Warning message in grid.Call(C_textBounds, as.graphicsAnnot(x$label), x$x, x$y, :\n",
      "\"font family not found in Windows font database\"\n",
      "Warning message in grid.Call(C_textBounds, as.graphicsAnnot(x$label), x$x, x$y, :\n",
      "\"font family not found in Windows font database\"\n",
      "Warning message in grid.Call(C_textBounds, as.graphicsAnnot(x$label), x$x, x$y, :\n",
      "\"font family not found in Windows font database\"\n",
      "Warning message in grid.Call(C_textBounds, as.graphicsAnnot(x$label), x$x, x$y, :\n",
      "\"font family not found in Windows font database\"\n",
      "Warning message in grid.Call(C_textBounds, as.graphicsAnnot(x$label), x$x, x$y, :\n",
      "\"font family not found in Windows font database\"\n",
      "Warning message in grid.Call(C_textBounds, as.graphicsAnnot(x$label), x$x, x$y, :\n",
      "\"font family not found in Windows font database\"\n",
      "Warning message in grid.Call(C_textBounds, as.graphicsAnnot(x$label), x$x, x$y, :\n",
      "\"font family not found in Windows font database\"\n",
      "Warning message in grid.Call(C_textBounds, as.graphicsAnnot(x$label), x$x, x$y, :\n",
      "\"font family not found in Windows font database\"\n",
      "Warning message in grid.Call(C_textBounds, as.graphicsAnnot(x$label), x$x, x$y, :\n",
      "\"font family not found in Windows font database\"\n"
     ]
    },
    {
     "data": {
      "image/png": "[encoded data removed]",
      "text/plain": [
       "plot without title"
      ]
     },
     "metadata": {
      "image/png": {
       "height": 420,
       "width": 420
      },
      "text/plain": {
       "height": 420,
       "width": 420
      }
     },
     "output_type": "display_data"
    }
   ],
   "source": [
    "# Library\n",
    "library(ggplot2)\n",
    "library(dplyr)\n",
    "library(hrbrthemes)\n",
    "\n",
    "# Create data\n",
    "set.seed(1000)\n",
    "data <- data.frame(\n",
    "  x=LETTERS[1:26], \n",
    "  y=abs(rnorm(26))\n",
    ")\n",
    " \n",
    "# Reorder the data\n",
    "data <- data %>%\n",
    "  arrange(y) %>%\n",
    "  mutate(x=factor(x,x))\n",
    "  \n",
    "# Plot\n",
    "p <- ggplot(data, aes(x=x, y=y)) +\n",
    "  geom_segment( aes(x=x, xend=x, y=0, yend=y ), color=ifelse(data$x %in% c(\"A\",\"D\"), \"orange\", \"grey\"), size=ifelse(data$x %in% c(\"A\",\"D\"), 1.3, 0.7) ) +\n",
    "  geom_point( color=ifelse(data$x %in% c(\"A\",\"D\"), \"orange\", \"grey\"), size=ifelse(data$x %in% c(\"A\",\"D\"), 5, 2) ) +\n",
    "  theme_ipsum() +\n",
    "  coord_flip() +\n",
    "  theme(\n",
    "    legend.position=\"none\"\n",
    "  ) +\n",
    "  xlab(\"\") +\n",
    "  ylab(\"Value of Y\") +\n",
    "  ggtitle(\"How did groups A and D perform?\")\n",
    "\n",
    "# Add annotation\n",
    "p + annotate(\"text\", x=grep(\"D\", data$x), y=data$y[which(data$x==\"D\")]*1.2, \n",
    "           label=\"Group D is very impressive\", \n",
    "           color=\"orange\", size=4 , angle=0, fontface=\"bold\", hjust=0) + \n",
    "  \n",
    "    annotate(\"text\", x = grep(\"A\", data$x), y = data$y[which(data$x==\"A\")]*1.2, \n",
    "           label = paste(\"Group A is not too bad\\n (val=\",data$y[which(data$x==\"A\")] %>% round(2),\")\",sep=\"\" ) , \n",
    "           color=\"orange\", size=4 , angle=0, fontface=\"bold\", hjust=0) "
   ]
  }
 ],
 "metadata": {
  "kernelspec": {
   "display_name": "R",
   "language": "R",
   "name": "ir"
  },
  "language_info": {
   "codemirror_mode": "r",
   "file_extension": ".r",
   "mimetype": "text/x-r-source",
   "name": "R",
   "pygments_lexer": "r",
   "version": "3.6.2"
  }
 },
 "nbformat": 4,
 "nbformat_minor": 4
}
