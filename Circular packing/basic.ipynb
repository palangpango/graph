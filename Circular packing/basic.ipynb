{
 "cells": [
  {
   "cell_type": "markdown",
   "metadata": {},
   "source": [
    "# **Basic circle packing**"
   ]
  },
  {
   "cell_type": "markdown",
   "metadata": {},
   "source": [
    "> #### เหมือน barplot แต่เป็นขนาดของวงกลมแทนที่จะเป็นความกว้างของ plot "
   ]
  },
  {
   "cell_type": "markdown",
   "metadata": {},
   "source": [
    "> #### และก็คล้ายกับ bubbleplot แต่ x และ y ไม่มีความสัมพันธ์ต่อกัน"
   ]
  },
  {
   "cell_type": "markdown",
   "metadata": {},
   "source": [
    "> #### สามารถสร้างโดย **geom_polygon()**"
   ]
  },
  {
   "cell_type": "code",
   "execution_count": 4,
   "metadata": {},
   "outputs": [
    {
     "name": "stderr",
     "output_type": "stream",
     "text": [
      "Installing package into 'C:/Users/Lenovo/Documents/R/win-library/3.6'\n",
      "(as 'lib' is unspecified)\n",
      "\n"
     ]
    },
    {
     "name": "stdout",
     "output_type": "stream",
     "text": [
      "package 'packcircles' successfully unpacked and MD5 sums checked\n",
      "\n",
      "The downloaded binary packages are in\n",
      "\tC:\\Users\\Lenovo\\AppData\\Local\\Temp\\RtmpcvFaMT\\downloaded_packages\n"
     ]
    },
    {
     "data": {
      "image/png": "[encoded data removed]",
      "text/plain": [
       "plot without title"
      ]
     },
     "metadata": {
      "image/png": {
       "height": 420,
       "width": 420
      },
      "text/plain": {
       "height": 420,
       "width": 420
      }
     },
     "output_type": "display_data"
    }
   ],
   "source": [
    "install.packages(\"packcircles\")\n",
    "# Libraries\n",
    "library(packcircles)\n",
    "library(ggplot2)\n",
    " \n",
    "# Create data\n",
    "data <- data.frame(group=paste(\"Group\", letters[1:20]), value=sample(seq(1,100),20)) \n",
    " \n",
    "# Generate the layout. This function return a dataframe with one line per bubble. \n",
    "# It gives its center (x and y) and its radius, proportional of the value\n",
    "packing <- circleProgressiveLayout(data$value, sizetype='area')\n",
    " \n",
    "# We can add these packing information to the initial data frame\n",
    "data <- cbind(data, packing)\n",
    " \n",
    "# Check that radius is proportional to value. We don't want a linear relationship, since it is the AREA that must be proportionnal to the value\n",
    "# plot(data$radius, data$value)\n",
    " \n",
    "# The next step is to go from one center + a radius to the coordinates of a circle that\n",
    "# is drawn by a multitude of straight lines.\n",
    "dat.gg <- circleLayoutVertices(packing, npoints=50)\n",
    " \n",
    "# Make the plot\n",
    "ggplot() + \n",
    "  \n",
    "  # Make the bubbles\n",
    "  geom_polygon(data = dat.gg, aes(x, y, group = id, fill=as.factor(id)), colour = \"black\", alpha = 0.6) +\n",
    "  \n",
    "  # Add text in the center of each bubble + control its size\n",
    "  geom_text(data = data, aes(x, y, size=value, label = group)) +\n",
    "  scale_size_continuous(range = c(1,4)) +\n",
    "  \n",
    "  # General theme:\n",
    "  theme_void() + \n",
    "  theme(legend.position=\"none\") +\n",
    "  coord_equal()"
   ]
  }
 ],
 "metadata": {
  "kernelspec": {
   "display_name": "R",
   "language": "R",
   "name": "ir"
  },
  "language_info": {
   "codemirror_mode": "r",
   "file_extension": ".r",
   "mimetype": "text/x-r-source",
   "name": "R",
   "pygments_lexer": "r",
   "version": "3.6.2"
  }
 },
 "nbformat": 4,
 "nbformat_minor": 4
}
