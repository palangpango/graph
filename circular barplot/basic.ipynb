{
 "cells": [
  {
   "cell_type": "markdown",
   "metadata": {},
   "source": [
    "# **circular barplot**"
   ]
  },
  {
   "cell_type": "markdown",
   "metadata": {},
   "source": [
    "#### Input ที่ต้องการคือ **1numeric/group**"
   ]
  },
  {
   "cell_type": "markdown",
   "metadata": {},
   "source": [
    "> #### วิธีทำเหมือนกับ Barplot ธรรมดา จะมีฟังก์ชั่นเพิ่มมา คือ **coord_polar** เพื่อทำให้กราฟเป็น circular"
   ]
  },
  {
   "cell_type": "markdown",
   "metadata": {},
   "source": [
    "> #### สิ่งสำคัญ คือ **ylim()** ถ้าค่าเริ่มจาก 0 แล้ว bar จะมาอยู่ตรงกลางของวงกลม ถ้าค่าเป็นลบ พื้นที่ว่างตรงกลางจะหายไป"
   ]
  },
  {
   "cell_type": "code",
   "execution_count": 1,
   "metadata": {},
   "outputs": [
    {
     "name": "stderr",
     "output_type": "stream",
     "text": [
      "-- \u001b[1mAttaching packages\u001b[22m --------------------------------------- tidyverse 1.3.0 --\n",
      "\n",
      "\u001b[32m<U+221A>\u001b[39m \u001b[34mggplot2\u001b[39m 3.2.1     \u001b[32m<U+221A>\u001b[39m \u001b[34mpurrr  \u001b[39m 0.3.3\n",
      "\u001b[32m<U+221A>\u001b[39m \u001b[34mtibble \u001b[39m 2.1.3     \u001b[32m<U+221A>\u001b[39m \u001b[34mdplyr  \u001b[39m 0.8.3\n",
      "\u001b[32m<U+221A>\u001b[39m \u001b[34mtidyr  \u001b[39m 1.0.0     \u001b[32m<U+221A>\u001b[39m \u001b[34mstringr\u001b[39m 1.4.0\n",
      "\u001b[32m<U+221A>\u001b[39m \u001b[34mreadr  \u001b[39m 1.3.1     \u001b[32m<U+221A>\u001b[39m \u001b[34mforcats\u001b[39m 0.4.0\n",
      "\n",
      "-- \u001b[1mConflicts\u001b[22m ------------------------------------------ tidyverse_conflicts() --\n",
      "\u001b[31mx\u001b[39m \u001b[34mdplyr\u001b[39m::\u001b[32mfilter()\u001b[39m masks \u001b[34mstats\u001b[39m::filter()\n",
      "\u001b[31mx\u001b[39m \u001b[34mdplyr\u001b[39m::\u001b[32mlag()\u001b[39m    masks \u001b[34mstats\u001b[39m::lag()\n",
      "\n"
     ]
    },
    {
     "data": {
      "image/png": "[encoded data removed]",
      "text/plain": [
       "plot without title"
      ]
     },
     "metadata": {
      "image/png": {
       "height": 420,
       "width": 420
      },
      "text/plain": {
       "height": 420,
       "width": 420
      }
     },
     "output_type": "display_data"
    }
   ],
   "source": [
    "# Libraries\n",
    "library(tidyverse)\n",
    " \n",
    "# Create dataset\n",
    "data <- data.frame(\n",
    "  id=seq(1,60),\n",
    "  individual=paste( \"Mister \", seq(1,60), sep=\"\"),\n",
    "  value=sample( seq(10,100), 60, replace=T)\n",
    ")\n",
    " \n",
    "# Make the plot\n",
    "p <- ggplot(data, aes(x=as.factor(id), y=value)) +       # Note that id is a factor. If x is numeric, there is some space between the first bar\n",
    "  \n",
    "  # This add the bars with a blue color\n",
    "  geom_bar(stat=\"identity\", fill=alpha(\"blue\", 0.3)) +\n",
    "  \n",
    "  # Limits of the plot = very important. The negative value controls the size of the inner circle, the positive one is useful to add size over each bar\n",
    "  ylim(-100,120) +\n",
    "  \n",
    "  # Custom the theme: no axis title and no cartesian grid\n",
    "  theme_minimal() +\n",
    "  theme(\n",
    "    axis.text = element_blank(),\n",
    "    axis.title = element_blank(),\n",
    "    panel.grid = element_blank(),\n",
    "    plot.margin = unit(rep(-2,4), \"cm\")     # This remove unnecessary margin around plot\n",
    "  ) +\n",
    "  \n",
    "  # This makes the coordinate polar instead of cartesian.\n",
    "  coord_polar(start = 0)\n",
    "p"
   ]
  }
 ],
 "metadata": {
  "kernelspec": {
   "display_name": "R",
   "language": "R",
   "name": "ir"
  },
  "language_info": {
   "codemirror_mode": "r",
   "file_extension": ".r",
   "mimetype": "text/x-r-source",
   "name": "R",
   "pygments_lexer": "r",
   "version": "3.6.2"
  }
 },
 "nbformat": 4,
 "nbformat_minor": 4
}
