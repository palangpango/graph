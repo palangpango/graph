{
 "cells": [
  {
   "cell_type": "markdown",
   "metadata": {},
   "source": [
    "## **การกำหนดขนาดของ node**"
   ]
  },
  {
   "cell_type": "markdown",
   "metadata": {},
   "source": [
    "- #### สามารถกำหนดขนาด node ให้ขึ้นกับจำนวนในการเชื่อมต่อได้"
   ]
  },
  {
   "cell_type": "markdown",
   "metadata": {},
   "source": [
    "- #### **degree** = คำนวณว่าแต่ละ node มีกี่ connection"
   ]
  },
  {
   "cell_type": "markdown",
   "metadata": {},
   "source": [
    "- #### **Vertex.size** = กำหนดขนาด node"
   ]
  },
  {
   "cell_type": "code",
   "execution_count": 1,
   "metadata": {},
   "outputs": [
    {
     "name": "stderr",
     "output_type": "stream",
     "text": [
      "\n",
      "Attaching package: 'igraph'\n",
      "\n",
      "\n",
      "The following objects are masked from 'package:stats':\n",
      "\n",
      "    decompose, spectrum\n",
      "\n",
      "\n",
      "The following object is masked from 'package:base':\n",
      "\n",
      "    union\n",
      "\n",
      "\n"
     ]
    },
    {
     "data": {
      "image/png": "[encoded data removed]",
      "text/plain": [
       "Plot with title \"\""
      ]
     },
     "metadata": {
      "image/png": {
       "height": 420,
       "width": 420
      },
      "text/plain": {
       "height": 420,
       "width": 420
      }
     },
     "output_type": "display_data"
    }
   ],
   "source": [
    "# library\n",
    "library(igraph)\n",
    " \n",
    "# create data:\n",
    "links=data.frame(\n",
    "    source=c(\"A\",\"A\", \"A\", \"A\", \"A\",\"J\", \"B\", \"B\", \"C\", \"C\", \"D\",\"I\"),\n",
    "    target=c(\"B\",\"B\", \"C\", \"D\", \"J\",\"A\",\"E\", \"F\", \"G\", \"H\", \"I\",\"I\")\n",
    "    )\n",
    " \n",
    "# Turn it into igraph object\n",
    "network <- graph_from_data_frame(d=links, directed=F) \n",
    " \n",
    "# Count the number of degree for each node:\n",
    "deg <- degree(network, mode=\"all\")\n",
    " \n",
    "# Plot\n",
    "plot(network, vertex.size=deg*6, vertex.color=rgb(0.1,0.7,0.8,0.5) )"
   ]
  }
 ],
 "metadata": {
  "kernelspec": {
   "display_name": "R",
   "language": "R",
   "name": "ir"
  },
  "language_info": {
   "codemirror_mode": "r",
   "file_extension": ".r",
   "mimetype": "text/x-r-source",
   "name": "R",
   "pygments_lexer": "r",
   "version": "3.6.2"
  }
 },
 "nbformat": 4,
 "nbformat_minor": 4
}
