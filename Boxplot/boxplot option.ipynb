{
 "cells": [
  {
   "cell_type": "markdown",
   "metadata": {},
   "source": [
    "# **boxplot option**"
   ]
  },
  {
   "cell_type": "markdown",
   "metadata": {},
   "source": [
    "> #### ใช้สำหรับเปรียบเทียบข้อมูลระหว่างกลุ่ม"
   ]
  },
  {
   "cell_type": "markdown",
   "metadata": {},
   "source": [
    "> #### ถ้าข้อมูลระหว่างกลุ่มไม่มีการ overlab กัน แล้วค่า median จะแตกต่างกันอย่างมีนััยสำคัญ\n"
   ]
  },
  {
   "cell_type": "code",
   "execution_count": 4,
   "metadata": {},
   "outputs": [
    {
     "data": {
      "image/png": "[encoded data removed]",
      "text/plain": [
       "plot without title"
      ]
     },
     "metadata": {
      "image/png": {
       "height": 420,
       "width": 420
      },
      "text/plain": {
       "height": 420,
       "width": 420
      }
     },
     "output_type": "display_data"
    }
   ],
   "source": [
    "# Load ggplot2\n",
    "library(ggplot2)\n",
    " \n",
    "# The mpg dataset is natively available\n",
    "#head(mpg)\n",
    " \n",
    "# geom_boxplot proposes several arguments to custom appearance\n",
    "ggplot(mpg, aes(x=class, y=hwy)) + \n",
    "    geom_boxplot(\n",
    "        \n",
    "        # custom boxes\n",
    "        color=\"blue\",\n",
    "        fill=\"blue\",\n",
    "        alpha=0.2,\n",
    "        \n",
    "        # Notch?\n",
    "        notch=F,\n",
    "        notchwidth = 0.8,\n",
    "        \n",
    "        # custom outliers\n",
    "        outlier.colour=\"red\",\n",
    "        outlier.fill=\"red\",\n",
    "        outlier.size=3\n",
    "    \n",
    "    )"
   ]
  }
 ],
 "metadata": {
  "kernelspec": {
   "display_name": "R",
   "language": "R",
   "name": "ir"
  },
  "language_info": {
   "codemirror_mode": "r",
   "file_extension": ".r",
   "mimetype": "text/x-r-source",
   "name": "R",
   "pygments_lexer": "r",
   "version": "3.6.2"
  }
 },
 "nbformat": 4,
 "nbformat_minor": 4
}
